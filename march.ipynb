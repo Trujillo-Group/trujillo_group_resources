{
 "cells": [
  {
   "cell_type": "markdown",
   "metadata": {},
   "source": [
    "# March 2024\n",
    "## To-Do Lists"
   ]
  },
  {
   "cell_type": "markdown",
   "metadata": {},
   "source": [
    "### Thursday 14th\n",
    "**General**\\\n",
    "⚪️ Cris' Figures\\\n",
    "🟢 Update GitHub\n",
    "\n",
    "**CPC**\\\n",
    "⚪️ Writing\n",
    "\n",
    "**Periodate**\\\n",
    "🟢 Calculations\n"
   ]
  }
 ],
 "metadata": {
  "language_info": {
   "name": "python"
  }
 },
 "nbformat": 4,
 "nbformat_minor": 2
}
